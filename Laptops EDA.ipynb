{
  "nbformat": 4,
  "nbformat_minor": 0,
  "metadata": {
    "colab": {
      "name": "Untitled21.ipynb",
      "provenance": [],
      "authorship_tag": "ABX9TyMg8ICmOPCipGekcYIdov11",
      "include_colab_link": true
    },
    "kernelspec": {
      "name": "python3",
      "display_name": "Python 3"
    },
    "language_info": {
      "name": "python"
    }
  },
  "cells": [
    {
      "cell_type": "markdown",
      "metadata": {
        "id": "view-in-github",
        "colab_type": "text"
      },
      "source": [
        "<a href=\"https://colab.research.google.com/github/haridassaiprakash/Machine_Learning/blob/main/Laptops%20EDA.ipynb\" target=\"_parent\"><img src=\"https://colab.research.google.com/assets/colab-badge.svg\" alt=\"Open In Colab\"/></a>"
      ]
    },
    {
      "cell_type": "code",
      "execution_count": 1,
      "metadata": {
        "id": "zVNXsL6PmIqG"
      },
      "outputs": [],
      "source": [
        "import pandas as pd\n",
        "import numpy as np\n",
        "import matplotlib.pyplot as plt\n",
        "import seaborn as sns"
      ]
    },
    {
      "cell_type": "code",
      "source": [
        "df= pd.read_csv(\"laptops.csv\",encoding = \"ISO-8859-1\", engine='python')"
      ],
      "metadata": {
        "id": "CIUe-o4Emrrg"
      },
      "execution_count": 2,
      "outputs": []
    },
    {
      "cell_type": "code",
      "source": [
        "df.head()"
      ],
      "metadata": {
        "colab": {
          "base_uri": "https://localhost:8080/",
          "height": 354
        },
        "id": "XlnX6klcnG3q",
        "outputId": "22b7c841-c6d4-434c-d3b6-7f6e9364d01f"
      },
      "execution_count": 3,
      "outputs": [
        {
          "output_type": "execute_result",
          "data": {
            "text/html": [
              "\n",
              "  <div id=\"df-699237f3-1c58-469e-9db2-ee8ab27284fd\">\n",
              "    <div class=\"colab-df-container\">\n",
              "      <div>\n",
              "<style scoped>\n",
              "    .dataframe tbody tr th:only-of-type {\n",
              "        vertical-align: middle;\n",
              "    }\n",
              "\n",
              "    .dataframe tbody tr th {\n",
              "        vertical-align: top;\n",
              "    }\n",
              "\n",
              "    .dataframe thead th {\n",
              "        text-align: right;\n",
              "    }\n",
              "</style>\n",
              "<table border=\"1\" class=\"dataframe\">\n",
              "  <thead>\n",
              "    <tr style=\"text-align: right;\">\n",
              "      <th></th>\n",
              "      <th>Unnamed: 0</th>\n",
              "      <th>Company</th>\n",
              "      <th>Product</th>\n",
              "      <th>TypeName</th>\n",
              "      <th>Inches</th>\n",
              "      <th>ScreenResolution</th>\n",
              "      <th>Cpu</th>\n",
              "      <th>Ram</th>\n",
              "      <th>Memory</th>\n",
              "      <th>Gpu</th>\n",
              "      <th>OpSys</th>\n",
              "      <th>Weight</th>\n",
              "      <th>Price_euros</th>\n",
              "    </tr>\n",
              "  </thead>\n",
              "  <tbody>\n",
              "    <tr>\n",
              "      <th>0</th>\n",
              "      <td>1</td>\n",
              "      <td>Apple</td>\n",
              "      <td>MacBook Pro</td>\n",
              "      <td>Ultrabook</td>\n",
              "      <td>13.3</td>\n",
              "      <td>IPS Panel Retina Display 2560x1600</td>\n",
              "      <td>Intel Core i5 2.3GHz</td>\n",
              "      <td>8GB</td>\n",
              "      <td>128GB SSD</td>\n",
              "      <td>Intel Iris Plus Graphics 640</td>\n",
              "      <td>macOS</td>\n",
              "      <td>1.37kg</td>\n",
              "      <td>1339.69</td>\n",
              "    </tr>\n",
              "    <tr>\n",
              "      <th>1</th>\n",
              "      <td>2</td>\n",
              "      <td>Apple</td>\n",
              "      <td>Macbook Air</td>\n",
              "      <td>Ultrabook</td>\n",
              "      <td>13.3</td>\n",
              "      <td>1440x900</td>\n",
              "      <td>Intel Core i5 1.8GHz</td>\n",
              "      <td>8GB</td>\n",
              "      <td>128GB Flash Storage</td>\n",
              "      <td>Intel HD Graphics 6000</td>\n",
              "      <td>macOS</td>\n",
              "      <td>1.34kg</td>\n",
              "      <td>898.94</td>\n",
              "    </tr>\n",
              "    <tr>\n",
              "      <th>2</th>\n",
              "      <td>3</td>\n",
              "      <td>HP</td>\n",
              "      <td>250 G6</td>\n",
              "      <td>Notebook</td>\n",
              "      <td>15.6</td>\n",
              "      <td>Full HD 1920x1080</td>\n",
              "      <td>Intel Core i5 7200U 2.5GHz</td>\n",
              "      <td>8GB</td>\n",
              "      <td>256GB SSD</td>\n",
              "      <td>Intel HD Graphics 620</td>\n",
              "      <td>No OS</td>\n",
              "      <td>1.86kg</td>\n",
              "      <td>575.00</td>\n",
              "    </tr>\n",
              "    <tr>\n",
              "      <th>3</th>\n",
              "      <td>4</td>\n",
              "      <td>Apple</td>\n",
              "      <td>MacBook Pro</td>\n",
              "      <td>Ultrabook</td>\n",
              "      <td>15.4</td>\n",
              "      <td>IPS Panel Retina Display 2880x1800</td>\n",
              "      <td>Intel Core i7 2.7GHz</td>\n",
              "      <td>16GB</td>\n",
              "      <td>512GB SSD</td>\n",
              "      <td>AMD Radeon Pro 455</td>\n",
              "      <td>macOS</td>\n",
              "      <td>1.83kg</td>\n",
              "      <td>2537.45</td>\n",
              "    </tr>\n",
              "    <tr>\n",
              "      <th>4</th>\n",
              "      <td>5</td>\n",
              "      <td>Apple</td>\n",
              "      <td>MacBook Pro</td>\n",
              "      <td>Ultrabook</td>\n",
              "      <td>13.3</td>\n",
              "      <td>IPS Panel Retina Display 2560x1600</td>\n",
              "      <td>Intel Core i5 3.1GHz</td>\n",
              "      <td>8GB</td>\n",
              "      <td>256GB SSD</td>\n",
              "      <td>Intel Iris Plus Graphics 650</td>\n",
              "      <td>macOS</td>\n",
              "      <td>1.37kg</td>\n",
              "      <td>1803.60</td>\n",
              "    </tr>\n",
              "  </tbody>\n",
              "</table>\n",
              "</div>\n",
              "      <button class=\"colab-df-convert\" onclick=\"convertToInteractive('df-699237f3-1c58-469e-9db2-ee8ab27284fd')\"\n",
              "              title=\"Convert this dataframe to an interactive table.\"\n",
              "              style=\"display:none;\">\n",
              "        \n",
              "  <svg xmlns=\"http://www.w3.org/2000/svg\" height=\"24px\"viewBox=\"0 0 24 24\"\n",
              "       width=\"24px\">\n",
              "    <path d=\"M0 0h24v24H0V0z\" fill=\"none\"/>\n",
              "    <path d=\"M18.56 5.44l.94 2.06.94-2.06 2.06-.94-2.06-.94-.94-2.06-.94 2.06-2.06.94zm-11 1L8.5 8.5l.94-2.06 2.06-.94-2.06-.94L8.5 2.5l-.94 2.06-2.06.94zm10 10l.94 2.06.94-2.06 2.06-.94-2.06-.94-.94-2.06-.94 2.06-2.06.94z\"/><path d=\"M17.41 7.96l-1.37-1.37c-.4-.4-.92-.59-1.43-.59-.52 0-1.04.2-1.43.59L10.3 9.45l-7.72 7.72c-.78.78-.78 2.05 0 2.83L4 21.41c.39.39.9.59 1.41.59.51 0 1.02-.2 1.41-.59l7.78-7.78 2.81-2.81c.8-.78.8-2.07 0-2.86zM5.41 20L4 18.59l7.72-7.72 1.47 1.35L5.41 20z\"/>\n",
              "  </svg>\n",
              "      </button>\n",
              "      \n",
              "  <style>\n",
              "    .colab-df-container {\n",
              "      display:flex;\n",
              "      flex-wrap:wrap;\n",
              "      gap: 12px;\n",
              "    }\n",
              "\n",
              "    .colab-df-convert {\n",
              "      background-color: #E8F0FE;\n",
              "      border: none;\n",
              "      border-radius: 50%;\n",
              "      cursor: pointer;\n",
              "      display: none;\n",
              "      fill: #1967D2;\n",
              "      height: 32px;\n",
              "      padding: 0 0 0 0;\n",
              "      width: 32px;\n",
              "    }\n",
              "\n",
              "    .colab-df-convert:hover {\n",
              "      background-color: #E2EBFA;\n",
              "      box-shadow: 0px 1px 2px rgba(60, 64, 67, 0.3), 0px 1px 3px 1px rgba(60, 64, 67, 0.15);\n",
              "      fill: #174EA6;\n",
              "    }\n",
              "\n",
              "    [theme=dark] .colab-df-convert {\n",
              "      background-color: #3B4455;\n",
              "      fill: #D2E3FC;\n",
              "    }\n",
              "\n",
              "    [theme=dark] .colab-df-convert:hover {\n",
              "      background-color: #434B5C;\n",
              "      box-shadow: 0px 1px 3px 1px rgba(0, 0, 0, 0.15);\n",
              "      filter: drop-shadow(0px 1px 2px rgba(0, 0, 0, 0.3));\n",
              "      fill: #FFFFFF;\n",
              "    }\n",
              "  </style>\n",
              "\n",
              "      <script>\n",
              "        const buttonEl =\n",
              "          document.querySelector('#df-699237f3-1c58-469e-9db2-ee8ab27284fd button.colab-df-convert');\n",
              "        buttonEl.style.display =\n",
              "          google.colab.kernel.accessAllowed ? 'block' : 'none';\n",
              "\n",
              "        async function convertToInteractive(key) {\n",
              "          const element = document.querySelector('#df-699237f3-1c58-469e-9db2-ee8ab27284fd');\n",
              "          const dataTable =\n",
              "            await google.colab.kernel.invokeFunction('convertToInteractive',\n",
              "                                                     [key], {});\n",
              "          if (!dataTable) return;\n",
              "\n",
              "          const docLinkHtml = 'Like what you see? Visit the ' +\n",
              "            '<a target=\"_blank\" href=https://colab.research.google.com/notebooks/data_table.ipynb>data table notebook</a>'\n",
              "            + ' to learn more about interactive tables.';\n",
              "          element.innerHTML = '';\n",
              "          dataTable['output_type'] = 'display_data';\n",
              "          await google.colab.output.renderOutput(dataTable, element);\n",
              "          const docLink = document.createElement('div');\n",
              "          docLink.innerHTML = docLinkHtml;\n",
              "          element.appendChild(docLink);\n",
              "        }\n",
              "      </script>\n",
              "    </div>\n",
              "  </div>\n",
              "  "
            ],
            "text/plain": [
              "   Unnamed: 0 Company      Product  ...  OpSys  Weight Price_euros\n",
              "0           1   Apple  MacBook Pro  ...  macOS  1.37kg     1339.69\n",
              "1           2   Apple  Macbook Air  ...  macOS  1.34kg      898.94\n",
              "2           3      HP       250 G6  ...  No OS  1.86kg      575.00\n",
              "3           4   Apple  MacBook Pro  ...  macOS  1.83kg     2537.45\n",
              "4           5   Apple  MacBook Pro  ...  macOS  1.37kg     1803.60\n",
              "\n",
              "[5 rows x 13 columns]"
            ]
          },
          "metadata": {},
          "execution_count": 3
        }
      ]
    },
    {
      "cell_type": "code",
      "source": [
        "df.info()"
      ],
      "metadata": {
        "colab": {
          "base_uri": "https://localhost:8080/"
        },
        "id": "TmRwNstNnI9I",
        "outputId": "28793bde-4dd6-4cce-f8af-98419a22bd24"
      },
      "execution_count": 4,
      "outputs": [
        {
          "output_type": "stream",
          "name": "stdout",
          "text": [
            "<class 'pandas.core.frame.DataFrame'>\n",
            "RangeIndex: 1303 entries, 0 to 1302\n",
            "Data columns (total 13 columns):\n",
            " #   Column            Non-Null Count  Dtype  \n",
            "---  ------            --------------  -----  \n",
            " 0   Unnamed: 0        1303 non-null   int64  \n",
            " 1   Company           1303 non-null   object \n",
            " 2   Product           1303 non-null   object \n",
            " 3   TypeName          1303 non-null   object \n",
            " 4   Inches            1303 non-null   float64\n",
            " 5   ScreenResolution  1303 non-null   object \n",
            " 6   Cpu               1303 non-null   object \n",
            " 7   Ram               1303 non-null   object \n",
            " 8   Memory            1303 non-null   object \n",
            " 9   Gpu               1303 non-null   object \n",
            " 10  OpSys             1303 non-null   object \n",
            " 11  Weight            1303 non-null   object \n",
            " 12  Price_euros       1303 non-null   float64\n",
            "dtypes: float64(2), int64(1), object(10)\n",
            "memory usage: 132.5+ KB\n"
          ]
        }
      ]
    },
    {
      "cell_type": "code",
      "source": [
        "df.describe()"
      ],
      "metadata": {
        "colab": {
          "base_uri": "https://localhost:8080/",
          "height": 300
        },
        "id": "J9MUCM2inMHh",
        "outputId": "4190b950-97f1-475b-8e62-c7291f30e560"
      },
      "execution_count": 5,
      "outputs": [
        {
          "output_type": "execute_result",
          "data": {
            "text/html": [
              "\n",
              "  <div id=\"df-c6eeacb0-ec4b-48fe-b3b8-be5708cec10c\">\n",
              "    <div class=\"colab-df-container\">\n",
              "      <div>\n",
              "<style scoped>\n",
              "    .dataframe tbody tr th:only-of-type {\n",
              "        vertical-align: middle;\n",
              "    }\n",
              "\n",
              "    .dataframe tbody tr th {\n",
              "        vertical-align: top;\n",
              "    }\n",
              "\n",
              "    .dataframe thead th {\n",
              "        text-align: right;\n",
              "    }\n",
              "</style>\n",
              "<table border=\"1\" class=\"dataframe\">\n",
              "  <thead>\n",
              "    <tr style=\"text-align: right;\">\n",
              "      <th></th>\n",
              "      <th>Unnamed: 0</th>\n",
              "      <th>Inches</th>\n",
              "      <th>Price_euros</th>\n",
              "    </tr>\n",
              "  </thead>\n",
              "  <tbody>\n",
              "    <tr>\n",
              "      <th>count</th>\n",
              "      <td>1303.000000</td>\n",
              "      <td>1303.000000</td>\n",
              "      <td>1303.000000</td>\n",
              "    </tr>\n",
              "    <tr>\n",
              "      <th>mean</th>\n",
              "      <td>660.155794</td>\n",
              "      <td>15.017191</td>\n",
              "      <td>1123.686992</td>\n",
              "    </tr>\n",
              "    <tr>\n",
              "      <th>std</th>\n",
              "      <td>381.172104</td>\n",
              "      <td>1.426304</td>\n",
              "      <td>699.009043</td>\n",
              "    </tr>\n",
              "    <tr>\n",
              "      <th>min</th>\n",
              "      <td>1.000000</td>\n",
              "      <td>10.100000</td>\n",
              "      <td>174.000000</td>\n",
              "    </tr>\n",
              "    <tr>\n",
              "      <th>25%</th>\n",
              "      <td>331.500000</td>\n",
              "      <td>14.000000</td>\n",
              "      <td>599.000000</td>\n",
              "    </tr>\n",
              "    <tr>\n",
              "      <th>50%</th>\n",
              "      <td>659.000000</td>\n",
              "      <td>15.600000</td>\n",
              "      <td>977.000000</td>\n",
              "    </tr>\n",
              "    <tr>\n",
              "      <th>75%</th>\n",
              "      <td>990.500000</td>\n",
              "      <td>15.600000</td>\n",
              "      <td>1487.880000</td>\n",
              "    </tr>\n",
              "    <tr>\n",
              "      <th>max</th>\n",
              "      <td>1320.000000</td>\n",
              "      <td>18.400000</td>\n",
              "      <td>6099.000000</td>\n",
              "    </tr>\n",
              "  </tbody>\n",
              "</table>\n",
              "</div>\n",
              "      <button class=\"colab-df-convert\" onclick=\"convertToInteractive('df-c6eeacb0-ec4b-48fe-b3b8-be5708cec10c')\"\n",
              "              title=\"Convert this dataframe to an interactive table.\"\n",
              "              style=\"display:none;\">\n",
              "        \n",
              "  <svg xmlns=\"http://www.w3.org/2000/svg\" height=\"24px\"viewBox=\"0 0 24 24\"\n",
              "       width=\"24px\">\n",
              "    <path d=\"M0 0h24v24H0V0z\" fill=\"none\"/>\n",
              "    <path d=\"M18.56 5.44l.94 2.06.94-2.06 2.06-.94-2.06-.94-.94-2.06-.94 2.06-2.06.94zm-11 1L8.5 8.5l.94-2.06 2.06-.94-2.06-.94L8.5 2.5l-.94 2.06-2.06.94zm10 10l.94 2.06.94-2.06 2.06-.94-2.06-.94-.94-2.06-.94 2.06-2.06.94z\"/><path d=\"M17.41 7.96l-1.37-1.37c-.4-.4-.92-.59-1.43-.59-.52 0-1.04.2-1.43.59L10.3 9.45l-7.72 7.72c-.78.78-.78 2.05 0 2.83L4 21.41c.39.39.9.59 1.41.59.51 0 1.02-.2 1.41-.59l7.78-7.78 2.81-2.81c.8-.78.8-2.07 0-2.86zM5.41 20L4 18.59l7.72-7.72 1.47 1.35L5.41 20z\"/>\n",
              "  </svg>\n",
              "      </button>\n",
              "      \n",
              "  <style>\n",
              "    .colab-df-container {\n",
              "      display:flex;\n",
              "      flex-wrap:wrap;\n",
              "      gap: 12px;\n",
              "    }\n",
              "\n",
              "    .colab-df-convert {\n",
              "      background-color: #E8F0FE;\n",
              "      border: none;\n",
              "      border-radius: 50%;\n",
              "      cursor: pointer;\n",
              "      display: none;\n",
              "      fill: #1967D2;\n",
              "      height: 32px;\n",
              "      padding: 0 0 0 0;\n",
              "      width: 32px;\n",
              "    }\n",
              "\n",
              "    .colab-df-convert:hover {\n",
              "      background-color: #E2EBFA;\n",
              "      box-shadow: 0px 1px 2px rgba(60, 64, 67, 0.3), 0px 1px 3px 1px rgba(60, 64, 67, 0.15);\n",
              "      fill: #174EA6;\n",
              "    }\n",
              "\n",
              "    [theme=dark] .colab-df-convert {\n",
              "      background-color: #3B4455;\n",
              "      fill: #D2E3FC;\n",
              "    }\n",
              "\n",
              "    [theme=dark] .colab-df-convert:hover {\n",
              "      background-color: #434B5C;\n",
              "      box-shadow: 0px 1px 3px 1px rgba(0, 0, 0, 0.15);\n",
              "      filter: drop-shadow(0px 1px 2px rgba(0, 0, 0, 0.3));\n",
              "      fill: #FFFFFF;\n",
              "    }\n",
              "  </style>\n",
              "\n",
              "      <script>\n",
              "        const buttonEl =\n",
              "          document.querySelector('#df-c6eeacb0-ec4b-48fe-b3b8-be5708cec10c button.colab-df-convert');\n",
              "        buttonEl.style.display =\n",
              "          google.colab.kernel.accessAllowed ? 'block' : 'none';\n",
              "\n",
              "        async function convertToInteractive(key) {\n",
              "          const element = document.querySelector('#df-c6eeacb0-ec4b-48fe-b3b8-be5708cec10c');\n",
              "          const dataTable =\n",
              "            await google.colab.kernel.invokeFunction('convertToInteractive',\n",
              "                                                     [key], {});\n",
              "          if (!dataTable) return;\n",
              "\n",
              "          const docLinkHtml = 'Like what you see? Visit the ' +\n",
              "            '<a target=\"_blank\" href=https://colab.research.google.com/notebooks/data_table.ipynb>data table notebook</a>'\n",
              "            + ' to learn more about interactive tables.';\n",
              "          element.innerHTML = '';\n",
              "          dataTable['output_type'] = 'display_data';\n",
              "          await google.colab.output.renderOutput(dataTable, element);\n",
              "          const docLink = document.createElement('div');\n",
              "          docLink.innerHTML = docLinkHtml;\n",
              "          element.appendChild(docLink);\n",
              "        }\n",
              "      </script>\n",
              "    </div>\n",
              "  </div>\n",
              "  "
            ],
            "text/plain": [
              "        Unnamed: 0       Inches  Price_euros\n",
              "count  1303.000000  1303.000000  1303.000000\n",
              "mean    660.155794    15.017191  1123.686992\n",
              "std     381.172104     1.426304   699.009043\n",
              "min       1.000000    10.100000   174.000000\n",
              "25%     331.500000    14.000000   599.000000\n",
              "50%     659.000000    15.600000   977.000000\n",
              "75%     990.500000    15.600000  1487.880000\n",
              "max    1320.000000    18.400000  6099.000000"
            ]
          },
          "metadata": {},
          "execution_count": 5
        }
      ]
    },
    {
      "cell_type": "code",
      "source": [
        "df.isnull().sum()"
      ],
      "metadata": {
        "colab": {
          "base_uri": "https://localhost:8080/"
        },
        "id": "aXboMAbWnSJR",
        "outputId": "8decad36-0a9e-4560-ee95-28d4d9db1231"
      },
      "execution_count": 6,
      "outputs": [
        {
          "output_type": "execute_result",
          "data": {
            "text/plain": [
              "Unnamed: 0          0\n",
              "Company             0\n",
              "Product             0\n",
              "TypeName            0\n",
              "Inches              0\n",
              "ScreenResolution    0\n",
              "Cpu                 0\n",
              "Ram                 0\n",
              "Memory              0\n",
              "Gpu                 0\n",
              "OpSys               0\n",
              "Weight              0\n",
              "Price_euros         0\n",
              "dtype: int64"
            ]
          },
          "metadata": {},
          "execution_count": 6
        }
      ]
    },
    {
      "cell_type": "code",
      "source": [
        "df.shape"
      ],
      "metadata": {
        "id": "7PXf36vdncAj",
        "colab": {
          "base_uri": "https://localhost:8080/"
        },
        "outputId": "e5201326-ab3f-4157-e11a-b237b3eb96b8"
      },
      "execution_count": 7,
      "outputs": [
        {
          "output_type": "execute_result",
          "data": {
            "text/plain": [
              "(1303, 13)"
            ]
          },
          "metadata": {},
          "execution_count": 7
        }
      ]
    },
    {
      "cell_type": "code",
      "source": [
        "comp = df.groupby(['Company']).count().reset_index().sort_values(by='Unnamed: 0', ascending=False)\n",
        "plt.figure(figsize=(15,4))\n",
        "plt.bar(comp['Company'], comp['Unnamed: 0'], color='gray')\n",
        "plt.xticks(rotation=30)\n",
        "plt.grid(axis='y')\n",
        "plt.title('Laptops by company')\n",
        "plt.show()"
      ],
      "metadata": {
        "colab": {
          "base_uri": "https://localhost:8080/",
          "height": 306
        },
        "id": "WnAIOEVjH2aK",
        "outputId": "8df3b16f-48ab-4c4c-a463-90d87cec8bef"
      },
      "execution_count": 8,
      "outputs": [
        {
          "output_type": "display_data",
          "data": {
            "image/png": "[encoded data removed]",
            "text/plain": [
              "<Figure size 1080x288 with 1 Axes>"
            ]
          },
          "metadata": {
            "needs_background": "light"
          }
        }
      ]
    },
    {
      "cell_type": "code",
      "source": [
        "tn = df.groupby(['TypeName']).count().reset_index().sort_values(by='Unnamed: 0', ascending=False)\n",
        "plt.figure(figsize=(10,4))\n",
        "plt.bar(tn['TypeName'], tn['Unnamed: 0'], color='gray')\n",
        "plt.title('Laptops by type')\n",
        "plt.grid(axis='y')\n",
        "plt.show()"
      ],
      "metadata": {
        "id": "_zUvY8qGH8wu",
        "colab": {
          "base_uri": "https://localhost:8080/",
          "height": 281
        },
        "outputId": "1e1fbba4-f6f3-4243-cd27-cda5e1ca1abd"
      },
      "execution_count": 9,
      "outputs": [
        {
          "output_type": "display_data",
          "data": {
            "image/png": "[encoded data removed]",
            "text/plain": [
              "<Figure size 720x288 with 1 Axes>"
            ]
          },
          "metadata": {
            "needs_background": "light"
          }
        }
      ]
    },
    {
      "cell_type": "code",
      "source": [
        "df['Inches'] = df['Inches'].astype(str)\n",
        "inc = df.groupby(['Inches']).count().reset_index().sort_values(by='Unnamed: 0', ascending=False)\n",
        "plt.figure(figsize=(14,4))\n",
        "plt.bar(inc['Inches'], inc['Unnamed: 0'], color='gray')\n",
        "plt.title('Laptops screen inches')\n",
        "plt.grid(axis='y')\n",
        "plt.show()"
      ],
      "metadata": {
        "colab": {
          "base_uri": "https://localhost:8080/",
          "height": 281
        },
        "id": "HcPlB3jm_fZo",
        "outputId": "e0ddc75b-3d08-45ab-9b2a-36f1e8899443"
      },
      "execution_count": 10,
      "outputs": [
        {
          "output_type": "display_data",
          "data": {
            "image/png": "[encoded data removed]",
            "text/plain": [
              "<Figure size 1008x288 with 1 Axes>"
            ]
          },
          "metadata": {
            "needs_background": "light"
          }
        }
      ]
    },
    {
      "cell_type": "code",
      "source": [
        "cpu = df.groupby(['Cpu']).count().reset_index().sort_values(by='Unnamed: 0', ascending=True).tail(20)\n",
        "plt.figure(figsize=(10,8))\n",
        "plt.barh(cpu['Cpu'], cpu['Unnamed: 0'], color='gray')\n",
        "plt.title('Laptops by CPU (top 20)')\n",
        "plt.grid(axis='x')\n",
        "plt.show()"
      ],
      "metadata": {
        "colab": {
          "base_uri": "https://localhost:8080/",
          "height": 499
        },
        "id": "TAV1ULLm_pKS",
        "outputId": "37221534-7968-4231-d907-94e360f2d9c4"
      },
      "execution_count": 11,
      "outputs": [
        {
          "output_type": "display_data",
          "data": {
            "image/png": "[encoded data removed]",
            "text/plain": [
              "<Figure size 720x576 with 1 Axes>"
            ]
          },
          "metadata": {
            "needs_background": "light"
          }
        }
      ]
    },
    {
      "cell_type": "code",
      "source": [
        "df['cputype'] = df['Cpu'].apply(lambda x: x.split(' ')[0])\n",
        "cput = df.groupby(['cputype']).count().reset_index()\n",
        "plt.bar(cput['cputype'], cput['Unnamed: 0'], color='gray')\n",
        "plt.grid(axis='y')\n",
        "plt.title('Laptops by CPU company')\n",
        "plt.show()"
      ],
      "metadata": {
        "colab": {
          "base_uri": "https://localhost:8080/",
          "height": 281
        },
        "id": "PUCDY9SK_uYe",
        "outputId": "314024f0-f5de-423c-d4ee-61e8faea5937"
      },
      "execution_count": 12,
      "outputs": [
        {
          "output_type": "display_data",
          "data": {
            "image/png": "[encoded data removed]",
            "text/plain": [
              "<Figure size 432x288 with 1 Axes>"
            ]
          },
          "metadata": {
            "needs_background": "light"
          }
        }
      ]
    },
    {
      "cell_type": "code",
      "source": [
        ""
      ],
      "metadata": {
        "id": "BI9Ahxo1_2y3"
      },
      "execution_count": 12,
      "outputs": []
    },
    {
      "cell_type": "code",
      "source": [
        "df['WeightNum'] = df['Weight'].apply(lambda x: x.split('kg')[0])\n",
        "df['WeightNum'] = pd.to_numeric(df['WeightNum'])\n",
        "plt.hist(df['WeightNum'], color='gray', edgecolor='k')\n",
        "plt.title('Weight of laptops (kg)')\n",
        "plt.grid(axis='y')\n",
        "plt.show()\n"
      ],
      "metadata": {
        "colab": {
          "base_uri": "https://localhost:8080/",
          "height": 281
        },
        "id": "7SmAL7rTAB_L",
        "outputId": "b90d82bd-f208-46df-c90c-e3a003520ee1"
      },
      "execution_count": 13,
      "outputs": [
        {
          "output_type": "display_data",
          "data": {
            "image/png": "[encoded data removed]",
            "text/plain": [
              "<Figure size 432x288 with 1 Axes>"
            ]
          },
          "metadata": {
            "needs_background": "light"
          }
        }
      ]
    },
    {
      "cell_type": "code",
      "source": [
        "plt.hist(df['Price_euros'], color='gray', edgecolor='k')\n",
        "plt.title('Laptop prices (Euro)')\n",
        "plt.grid(axis='y')\n",
        "plt.show()"
      ],
      "metadata": {
        "colab": {
          "base_uri": "https://localhost:8080/",
          "height": 281
        },
        "id": "sJwGLlopAJgH",
        "outputId": "ab2a8ea1-1c01-4d37-eca7-8a1184f95eef"
      },
      "execution_count": 16,
      "outputs": [
        {
          "output_type": "display_data",
          "data": {
            "image/png": "[encoded data removed]",
            "text/plain": [
              "<Figure size 432x288 with 1 Axes>"
            ]
          },
          "metadata": {
            "needs_background": "light"
          }
        }
      ]
    },
    {
      "cell_type": "code",
      "source": [
        "d = {}\n",
        "for name in comp['Company']:\n",
        "    d[name] = df.loc[df['Company'] == name]\n",
        "\n",
        "for name, df in d.items():\n",
        "    print(d[name]['Company'].unique(),\n",
        "          '\\n', d[name].describe())"
      ],
      "metadata": {
        "colab": {
          "base_uri": "https://localhost:8080/"
        },
        "id": "1079ajerA8Z8",
        "outputId": "430ec3db-7983-49b7-a4d9-b4841e2d802c"
      },
      "execution_count": 18,
      "outputs": [
        {
          "output_type": "stream",
          "name": "stdout",
          "text": [
            "['Dell'] \n",
            "         Unnamed: 0  Price_euros   WeightNum\n",
            "count   297.000000   297.000000  297.000000\n",
            "mean    650.599327  1186.068990    2.147040\n",
            "std     375.415703   672.941227    0.693744\n",
            "min      14.000000   274.900000    1.180000\n",
            "25%     345.000000   735.070000    1.650000\n",
            "50%     639.000000   985.000000    2.180000\n",
            "75%     965.000000  1472.200000    2.300000\n",
            "max    1313.000000  3659.400000    4.420000\n",
            "['Lenovo'] \n",
            "         Unnamed: 0  Price_euros  WeightNum\n",
            "count   297.000000   297.000000  297.00000\n",
            "mean    682.471380  1086.384444    2.00229\n",
            "std     358.541377   698.426088    0.60085\n",
            "min      19.000000   229.000000    0.69000\n",
            "25%     392.000000   549.000000    1.50000\n",
            "50%     650.000000   899.000000    2.10000\n",
            "75%     968.000000  1488.990000    2.30000\n",
            "max    1318.000000  4899.000000    4.60000\n",
            "['HP'] \n",
            "         Unnamed: 0  Price_euros   WeightNum\n",
            "count   274.000000   274.000000  274.000000\n",
            "mean    703.722628  1067.774854    1.911314\n",
            "std     393.723118   617.508031    0.518931\n",
            "min       3.000000   209.000000    0.970000\n",
            "25%     349.000000   615.997500    1.490000\n",
            "50%     759.000000   966.500000    1.890000\n",
            "75%    1046.250000  1389.000000    2.100000\n",
            "max    1319.000000  4389.000000    3.780000\n",
            "['Asus'] \n",
            "         Unnamed: 0  Price_euros   WeightNum\n",
            "count   158.000000   158.000000  158.000000\n",
            "mean    614.765823  1104.169367    2.220196\n",
            "std     400.680364   702.490232    0.786369\n",
            "min       9.000000   191.900000    0.910000\n",
            "25%     280.000000   537.250000    1.657500\n",
            "50%     540.000000  1012.500000    2.200000\n",
            "75%     909.250000  1488.250000    2.635250\n",
            "max    1320.000000  3975.000000    4.700000\n",
            "['Acer'] \n",
            "         Unnamed: 0  Price_euros   WeightNum\n",
            "count   103.000000   103.000000  103.000000\n",
            "mean    585.087379   626.775825    2.166893\n",
            "std     393.079823   375.671363    0.577247\n",
            "min       6.000000   174.000000    1.120000\n",
            "25%     234.500000   385.500000    1.800000\n",
            "50%     550.000000   559.000000    2.200000\n",
            "75%     909.000000   774.500000    2.400000\n",
            "max    1309.000000  2599.000000    4.200000\n",
            "['MSI'] \n",
            "         Unnamed: 0  Price_euros  WeightNum\n",
            "count    54.000000    54.000000  54.000000\n",
            "mean    760.759259  1728.908148   2.660556\n",
            "std     389.340998   530.348129   0.693866\n",
            "min      59.000000   839.000000   1.600000\n",
            "25%     422.000000  1206.500000   2.200000\n",
            "50%     794.500000  1599.000000   2.515000\n",
            "75%    1118.750000  2187.592500   2.800000\n",
            "max    1277.000000  2799.000000   4.500000\n",
            "['Toshiba'] \n",
            "         Unnamed: 0  Price_euros  WeightNum\n",
            "count    48.000000    48.000000  48.000000\n",
            "mean    722.375000  1267.812500   1.640208\n",
            "std     287.527954   478.913294   0.448987\n",
            "min     146.000000   447.000000   1.050000\n",
            "25%     528.000000   965.500000   1.200000\n",
            "50%     803.000000  1211.500000   1.500000\n",
            "75%     968.000000  1535.000000   2.000000\n",
            "max    1133.000000  2799.000000   2.400000\n",
            "['Apple'] \n",
            "         Unnamed: 0  Price_euros  WeightNum\n",
            "count    21.000000    21.000000  21.000000\n",
            "mean    304.142857  1564.198571   1.320476\n",
            "std     478.097614   561.623595   0.341606\n",
            "min       1.000000   898.940000   0.920000\n",
            "25%       8.000000  1163.000000   0.920000\n",
            "50%      27.000000  1339.690000   1.350000\n",
            "75%     275.000000  1958.900000   1.370000\n",
            "max    1252.000000  2858.000000   2.040000\n",
            "['Samsung'] \n",
            "         Unnamed: 0  Price_euros  WeightNum\n",
            "count     9.000000     9.000000   9.000000\n",
            "mean    796.222222  1413.444444   1.315556\n",
            "std     212.203191   556.509459   0.518775\n",
            "min     437.000000   269.000000   0.810000\n",
            "25%     754.000000  1499.000000   1.150000\n",
            "50%     780.000000  1649.000000   1.170000\n",
            "75%     885.000000  1699.000000   1.310000\n",
            "max    1209.000000  1849.000000   2.500000\n",
            "['Razer'] \n",
            "         Unnamed: 0  Price_euros  WeightNum\n",
            "count     7.000000     7.000000   7.000000\n",
            "mean    812.428571  3346.142857   2.195714\n",
            "std     340.118537  1859.988479   0.935073\n",
            "min     200.000000  1029.000000   1.250000\n",
            "25%     721.000000  2199.000000   1.620000\n",
            "50%     825.000000  2899.000000   1.950000\n",
            "75%     985.500000  4499.000000   2.720000\n",
            "max    1249.000000  6099.000000   3.490000\n",
            "['Mediacom'] \n",
            "        Unnamed: 0  Price_euros  WeightNum\n",
            "count    7.000000     7.000000   7.000000\n",
            "mean   581.000000   295.000000   1.337143\n",
            "std     88.313834    60.663004   0.111761\n",
            "min    436.000000   239.000000   1.160000\n",
            "25%    551.500000   252.000000   1.275000\n",
            "50%    582.000000   265.000000   1.400000\n",
            "75%    610.000000   334.000000   1.400000\n",
            "max    726.000000   389.000000   1.450000\n",
            "['Microsoft'] \n",
            "        Unnamed: 0  Price_euros  WeightNum\n",
            "count    6.000000     6.000000   6.000000\n",
            "mean   373.666667  1612.308333   1.251333\n",
            "std    235.802177   598.431057   0.001033\n",
            "min     72.000000   989.000000   1.250000\n",
            "25%    194.250000  1151.750000   1.250500\n",
            "50%    460.000000  1569.500000   1.252000\n",
            "75%    464.750000  1850.637500   1.252000\n",
            "max    678.000000  2589.000000   1.252000\n",
            "['Vero'] \n",
            "         Unnamed: 0  Price_euros  WeightNum\n",
            "count     4.000000     4.000000   4.000000\n",
            "mean    796.250000   217.425000   1.330000\n",
            "std     425.526634    29.020266   0.096264\n",
            "min     195.000000   196.000000   1.220000\n",
            "25%     648.750000   201.175000   1.280000\n",
            "50%     927.500000   206.850000   1.325000\n",
            "75%    1075.000000   223.100000   1.375000\n",
            "max    1135.000000   260.000000   1.450000\n",
            "['Xiaomi'] \n",
            "        Unnamed: 0  Price_euros  WeightNum\n",
            "count    4.000000     4.000000   4.000000\n",
            "mean   448.250000  1133.462500   1.620000\n",
            "std    331.678936   210.188056   0.381139\n",
            "min    188.000000   935.000000   1.280000\n",
            "25%    194.000000   983.675000   1.295000\n",
            "50%    358.500000  1099.450000   1.625000\n",
            "75%    612.750000  1249.237500   1.950000\n",
            "max    888.000000  1399.950000   1.950000\n",
            "['Google'] \n",
            "        Unnamed: 0  Price_euros  WeightNum\n",
            "count    3.000000     3.000000        3.0\n",
            "mean   564.666667  1677.666667        1.1\n",
            "std    179.544795   473.292017        0.0\n",
            "min    444.000000  1275.000000        1.1\n",
            "25%    461.500000  1417.000000        1.1\n",
            "50%    479.000000  1559.000000        1.1\n",
            "75%    625.000000  1879.000000        1.1\n",
            "max    771.000000  2199.000000        1.1\n",
            "['Fujitsu'] \n",
            "        Unnamed: 0  Price_euros  WeightNum\n",
            "count    3.000000     3.000000   3.000000\n",
            "mean   733.666667   729.000000   2.233333\n",
            "std    229.765823    75.498344   0.057735\n",
            "min    574.000000   649.000000   2.200000\n",
            "25%    602.000000   694.000000   2.200000\n",
            "50%    630.000000   739.000000   2.200000\n",
            "75%    813.500000   769.000000   2.250000\n",
            "max    997.000000   799.000000   2.300000\n",
            "['Chuwi'] \n",
            "        Unnamed: 0  Price_euros  WeightNum\n",
            "count    3.000000     3.000000   3.000000\n",
            "mean   316.333333   314.296667   1.726667\n",
            "std    249.042834   116.672889   0.282902\n",
            "min     31.000000   244.990000   1.400000\n",
            "25%    229.500000   246.945000   1.645000\n",
            "50%    428.000000   248.900000   1.890000\n",
            "75%    459.000000   348.950000   1.890000\n",
            "max    490.000000   449.000000   1.890000\n",
            "['LG'] \n",
            "        Unnamed: 0  Price_euros  WeightNum\n",
            "count    3.000000          3.0   3.000000\n",
            "mean   841.666667       2099.0   1.050000\n",
            "std    134.834466        200.0   0.060828\n",
            "min    686.000000       1899.0   0.980000\n",
            "25%    801.500000       1999.0   1.030000\n",
            "50%    917.000000       2099.0   1.080000\n",
            "75%    919.500000       2199.0   1.085000\n",
            "max    922.000000       2299.0   1.090000\n",
            "['Huawei'] \n",
            "        Unnamed: 0  Price_euros  WeightNum\n",
            "count    2.000000     2.000000       2.00\n",
            "mean   196.500000  1424.000000       1.05\n",
            "std     31.819805   106.066017       0.00\n",
            "min    174.000000  1349.000000       1.05\n",
            "25%    185.250000  1386.500000       1.05\n",
            "50%    196.500000  1424.000000       1.05\n",
            "75%    207.750000  1461.500000       1.05\n",
            "max    219.000000  1499.000000       1.05\n"
          ]
        }
      ]
    },
    {
      "cell_type": "code",
      "source": [
        ""
      ],
      "metadata": {
        "id": "3PceNOVfBiGf"
      },
      "execution_count": null,
      "outputs": []
    }
  ]
}